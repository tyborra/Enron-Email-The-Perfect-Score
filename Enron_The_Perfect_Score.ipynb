{
 "cells": [
  {
   "cell_type": "markdown",
   "metadata": {},
   "source": [
    "# The Perfect Score\n",
    "> This notebook was part of Udacity's Data Analyst Nanodegree. It demonstrates the effects of data leakage on a prediction.\n",
    "> Three models achieved perfect scores of 100% accuracy due to data leakage of the imputer.\n",
    "\n",
    "## Table of Contents\n",
    "<ul>\n",
    "<li><a href=\"#leak\">Data Leak</a></li>\n",
    "<li><a href=\"#scores\">Scores</a></li>\n",
    "</ul>"
   ]
  },
  {
   "cell_type": "code",
   "execution_count": 1,
   "metadata": {},
   "outputs": [],
   "source": [
    "import warnings\n",
    "warnings.filterwarnings('ignore')\n",
    "%matplotlib inline"
   ]
  },
  {
   "cell_type": "code",
   "execution_count": 2,
   "metadata": {},
   "outputs": [
    {
     "name": "stderr",
     "output_type": "stream",
     "text": [
      "C:\\Users\\Me\\Anaconda3\\envs\\udacity_ml\\lib\\site-packages\\sklearn\\cross_validation.py:41: DeprecationWarning: This module was deprecated in version 0.18 in favor of the model_selection module into which all the refactored classes and functions are moved. Also note that the interface of the new CV iterators are different from that of this module. This module will be removed in 0.20.\n",
      "  \"This module will be removed in 0.20.\", DeprecationWarning)\n"
     ]
    }
   ],
   "source": [
    "import sys\n",
    "import pickle\n",
    "sys.path.append(\"../tools/\")\n",
    "\n",
    "from feature_format import featureFormat, targetFeatureSplit\n",
    "from tester import dump_classifier_and_data\n",
    "\n",
    "import pandas as pd\n",
    "import numpy as np\n",
    "import matplotlib.pyplot as plt\n",
    "plt.style.use('ggplot')\n",
    "import seaborn as sns\n",
    "\n",
    "from sklearn.preprocessing import Imputer, Normalizer\n",
    "from statsmodels.stats.outliers_influence import OLSInfluence\n",
    "from statsmodels.regression.linear_model import OLS\n",
    "from matplotlib.colors import ListedColormap\n",
    "from sklearn.model_selection import train_test_split\n",
    "from sklearn import preprocessing\n",
    "from sklearn.preprocessing import StandardScaler\n",
    "from sklearn.datasets import make_moons, make_circles, make_classification\n",
    "from sklearn.neural_network import MLPClassifier\n",
    "from sklearn.neighbors import KNeighborsClassifier\n",
    "from sklearn.svm import SVC\n",
    "from sklearn.gaussian_process import GaussianProcessClassifier\n",
    "from sklearn.gaussian_process.kernels import RBF\n",
    "from sklearn.tree import DecisionTreeClassifier\n",
    "from sklearn.linear_model import LogisticRegression, RidgeClassifier\n",
    "from sklearn.ensemble import RandomForestClassifier, AdaBoostClassifier\n",
    "from sklearn.naive_bayes import GaussianNB\n",
    "from sklearn.discriminant_analysis import QuadraticDiscriminantAnalysis\n",
    "from sklearn import model_selection\n",
    "from sklearn.model_selection import KFold, StratifiedKFold\n",
    "from sklearn.cross_validation import StratifiedShuffleSplit\n",
    "from sklearn.model_selection import GridSearchCV\n",
    "import lightgbm as lgb\n",
    "from sklearn.metrics import confusion_matrix\n",
    "from sklearn.metrics import classification_report\n",
    "from imblearn.over_sampling import SMOTE\n",
    "from tester import dump_classifier_and_data, test_classifier\n",
    "from testerFast import  test_classifier_fast\n",
    "from feature_format import featureFormat, targetFeatureSplit\n",
    "from sklearn.svm import LinearSVC\n",
    "from scipy.stats import skew\n",
    "from imblearn.pipeline import Pipeline\n",
    "from sklearn.pipeline import Pipeline as sk_pipeline\n",
    "from sklearn.decomposition import PCA\n",
    "from sklearn.feature_selection import SelectKBest, chi2, SelectFpr\n",
    "from sklearn.base import ClassifierMixin\n",
    "\n",
    "\n",
    "SEED = 5678\n",
    "np.random.seed(SEED)"
   ]
  },
  {
   "cell_type": "markdown",
   "metadata": {},
   "source": [
    "# Functions"
   ]
  },
  {
   "cell_type": "code",
   "execution_count": 5,
   "metadata": {},
   "outputs": [],
   "source": [
    "#prepares data for tester returns a list of column names and dict of values\n",
    "def tester_prep(dfn):\n",
    "    features_list = dfn.columns.values\n",
    "    data_dict = dfn.to_dict('index')\n",
    "    return features_list, data_dict"
   ]
  },
  {
   "cell_type": "markdown",
   "metadata": {},
   "source": [
    "# Task 1: Select what features you'll use."
   ]
  },
  {
   "cell_type": "code",
   "execution_count": 6,
   "metadata": {},
   "outputs": [
    {
     "data": {
      "text/plain": [
       "146"
      ]
     },
     "execution_count": 6,
     "metadata": {},
     "output_type": "execute_result"
    }
   ],
   "source": [
    "### Load the dictionary containing the dataset\n",
    "with open(\"final_project_dataset.pkl\", \"r\") as data_file:\n",
    "    data_dict = pickle.load(data_file)\n",
    "    \n",
    "len(data_dict)"
   ]
  },
  {
   "cell_type": "code",
   "execution_count": 7,
   "metadata": {},
   "outputs": [
    {
     "data": {
      "text/plain": [
       "(146, 21)"
      ]
     },
     "execution_count": 7,
     "metadata": {},
     "output_type": "execute_result"
    }
   ],
   "source": [
    "#convert to df\n",
    "df = pd.DataFrame.from_dict(data_dict, orient = 'index')\n",
    "raw_df = df.copy()\n",
    "df.shape"
   ]
  },
  {
   "cell_type": "code",
   "execution_count": 8,
   "metadata": {},
   "outputs": [],
   "source": [
    "# not using this\n",
    "df.drop(['email_address'], axis = 1, inplace = True)"
   ]
  },
  {
   "cell_type": "markdown",
   "metadata": {},
   "source": [
    "<a id='leak'></a>\n",
    "\n",
    "# Impute Missing Data\n",
    "> This is where the data leakage occurs\n"
   ]
  },
  {
   "cell_type": "code",
   "execution_count": 9,
   "metadata": {},
   "outputs": [],
   "source": [
    "#convert to numeric \n",
    "cols = df.columns\n",
    "df[cols] = df[cols].apply(pd.to_numeric, errors='coerce')"
   ]
  },
  {
   "cell_type": "code",
   "execution_count": 10,
   "metadata": {},
   "outputs": [],
   "source": [
    "# not_cols are all the feature columns from the dataset, poi_cols is all the columns except director_fees and \n",
    "# restricted_stock_deferred. These columns contain no inforamtion so cannot be used in the imputer\n",
    "\n",
    "not_cols =[ 'to_messages', 'from_messages', 'from_this_person_to_poi',  \n",
    "             'from_poi_to_this_person', 'salary',  'deferral_payments', 'total_payments',\n",
    "           'exercised_stock_options', 'bonus', 'restricted_stock',\n",
    "           'shared_receipt_with_poi', 'restricted_stock_deferred',\n",
    "           'total_stock_value', 'expenses', 'loan_advances', \n",
    "           'other', 'director_fees', 'deferred_income', 'long_term_incentive']\n",
    "\n",
    "poi_cols =[ 'to_messages', 'from_messages', 'from_this_person_to_poi',  \n",
    "             'from_poi_to_this_person', 'salary',  'deferral_payments', 'total_payments',\n",
    "               'exercised_stock_options', 'bonus', 'restricted_stock',\n",
    "               'shared_receipt_with_poi', \n",
    "               'total_stock_value', 'expenses', 'loan_advances', \n",
    "               'other',  'deferred_income', 'long_term_incentive']\n",
    "\n",
    "# no values in poi data\n",
    "empty_cols = ['director_fees','restricted_stock_deferred']"
   ]
  },
  {
   "cell_type": "code",
   "execution_count": 11,
   "metadata": {},
   "outputs": [],
   "source": [
    "imputer_poi = Imputer(missing_values='NaN', strategy = 'mean', axis=0)\n",
    "imputer_not = Imputer(missing_values='NaN', strategy = 'mean', axis=0)"
   ]
  },
  {
   "cell_type": "markdown",
   "metadata": {},
   "source": [
    "### This is the exact spot the leak occured. Splitting the data by label before imputing the mean causes a leak by\n",
    "### using values that are supposed to be unknown in the calculation of the mean."
   ]
  },
  {
   "cell_type": "code",
   "execution_count": 12,
   "metadata": {},
   "outputs": [],
   "source": [
    "poi_df = df[df['poi'] == True]\n",
    "not_df = df[df['poi'] == False]\n",
    "\n",
    "not_df.loc[: , not_cols] = imputer_not.fit_transform(not_df.loc[: , not_cols])\n",
    "poi_df.loc[: , poi_cols] = imputer_poi.fit_transform(poi_df.loc[: , poi_cols])"
   ]
  },
  {
   "cell_type": "code",
   "execution_count": 13,
   "metadata": {},
   "outputs": [],
   "source": [
    "poi_df[empty_cols] = poi_df[empty_cols].fillna(value = 0, axis = 0)"
   ]
  },
  {
   "cell_type": "code",
   "execution_count": 14,
   "metadata": {},
   "outputs": [
    {
     "data": {
      "text/plain": [
       "(146, 20)"
      ]
     },
     "execution_count": 14,
     "metadata": {},
     "output_type": "execute_result"
    }
   ],
   "source": [
    "df = pd.concat([poi_df, not_df],axis = 0)\n",
    "df.shape"
   ]
  },
  {
   "cell_type": "code",
   "execution_count": 15,
   "metadata": {},
   "outputs": [
    {
     "name": "stdout",
     "output_type": "stream",
     "text": [
      "((146L,), (146, 19))\n"
     ]
    }
   ],
   "source": [
    "y = df['poi'].copy()\n",
    "df.drop(['poi'], axis = 1, inplace = True)\n",
    "print(y.shape, df.shape)"
   ]
  },
  {
   "cell_type": "code",
   "execution_count": 16,
   "metadata": {},
   "outputs": [
    {
     "data": {
      "text/plain": [
       "False"
      ]
     },
     "execution_count": 16,
     "metadata": {},
     "output_type": "execute_result"
    }
   ],
   "source": [
    "df.isnull().values.any()"
   ]
  },
  {
   "cell_type": "markdown",
   "metadata": {},
   "source": [
    "# Task 2: Remove outliers"
   ]
  },
  {
   "cell_type": "code",
   "execution_count": 17,
   "metadata": {
    "scrolled": true
   },
   "outputs": [],
   "source": [
    "ols_mod = OLS(endog = y.values, exog = df)\n",
    "ols_result = ols_mod.fit()"
   ]
  },
  {
   "cell_type": "code",
   "execution_count": 18,
   "metadata": {},
   "outputs": [],
   "source": [
    "out_test = ols_result.outlier_test()['bonf(p)']"
   ]
  },
  {
   "cell_type": "code",
   "execution_count": 19,
   "metadata": {},
   "outputs": [
    {
     "data": {
      "text/plain": [
       "['LAY KENNETH L', 'BELFER ROBERT', 'TOTAL']"
      ]
     },
     "execution_count": 19,
     "metadata": {},
     "output_type": "execute_result"
    }
   ],
   "source": [
    "outliers = list(out_test[out_test<1e-3].index) \n",
    "\n",
    "outliers"
   ]
  },
  {
   "cell_type": "code",
   "execution_count": 20,
   "metadata": {},
   "outputs": [
    {
     "name": "stdout",
     "output_type": "stream",
     "text": [
      "(['LAY KENNETH L', 'RICE KENNETH D', 'BELFER ROBERT', 'CHAN RONNIE', 'DERRICK JR. JAMES V', 'GRAMM WENDY L', 'MEYER JEROME J', 'PEREIRA PAULO V. FERRAZ', 'POWERS WILLIAM', 'URQUHART JOHN A', 'WAKEHAM JOHN'], ['BELDEN TIMOTHY N', 'BOWEN JR RAYMOND M', 'RIEKER PAULA H', 'SHELBY REX', 'SKILLING JEFFREY K', 'YEAGER F SCOTT', 'BANNANTINE JAMES M', 'BHATNAGAR SANJAY', 'FREVERT MARK A', 'KAMINSKI WINCENTY J', 'KISHKILL JOSEPH G', 'PICKERING MARK R', 'SHAPIRO RICHARD S', 'TOTAL', 'WESTFAHL RICHARD K'])\n"
     ]
    }
   ],
   "source": [
    "inf = OLSInfluence(ols_result)\n",
    "stud = inf.resid_studentized_internal\n",
    "less_outliers = list(stud[stud < -1 ].index)  \n",
    "more_outliers = list(stud[stud > 1 ].index) \n",
    "print(less_outliers, more_outliers)"
   ]
  },
  {
   "cell_type": "code",
   "execution_count": 21,
   "metadata": {},
   "outputs": [],
   "source": [
    "inf = OLSInfluence(ols_result)\n",
    "stud = inf.resid_studentized_internal\n",
    "less_outliers = list(stud[stud < -1 ].index) #0.9 \n",
    "more_outliers = list(stud[stud > 1 ].index)"
   ]
  },
  {
   "cell_type": "code",
   "execution_count": 22,
   "metadata": {},
   "outputs": [
    {
     "name": "stdout",
     "output_type": "stream",
     "text": [
      "15\n",
      "BELDEN TIMOTHY N        True\n",
      "BOWEN JR RAYMOND M      True\n",
      "RIEKER PAULA H          True\n",
      "SHELBY REX              True\n",
      "SKILLING JEFFREY K      True\n",
      "YEAGER F SCOTT          True\n",
      "BANNANTINE JAMES M     False\n",
      "BHATNAGAR SANJAY       False\n",
      "FREVERT MARK A         False\n",
      "KAMINSKI WINCENTY J    False\n",
      "KISHKILL JOSEPH G      False\n",
      "PICKERING MARK R       False\n",
      "SHAPIRO RICHARD S      False\n",
      "TOTAL                  False\n",
      "WESTFAHL RICHARD K     False\n",
      "Name: poi, dtype: bool\n"
     ]
    }
   ],
   "source": [
    "print(len(y.loc[more_outliers]))\n",
    "print(y.loc[more_outliers])"
   ]
  },
  {
   "cell_type": "code",
   "execution_count": 23,
   "metadata": {},
   "outputs": [
    {
     "name": "stdout",
     "output_type": "stream",
     "text": [
      "18\n"
     ]
    }
   ],
   "source": [
    "print(len(raw_df.loc[(raw_df['poi'] == True)]))"
   ]
  },
  {
   "cell_type": "code",
   "execution_count": 24,
   "metadata": {},
   "outputs": [
    {
     "name": "stdout",
     "output_type": "stream",
     "text": [
      "11\n",
      "LAY KENNETH L               True\n",
      "RICE KENNETH D              True\n",
      "BELFER ROBERT              False\n",
      "CHAN RONNIE                False\n",
      "DERRICK JR. JAMES V        False\n",
      "GRAMM WENDY L              False\n",
      "MEYER JEROME J             False\n",
      "PEREIRA PAULO V. FERRAZ    False\n",
      "POWERS WILLIAM             False\n",
      "URQUHART JOHN A            False\n",
      "WAKEHAM JOHN               False\n",
      "Name: poi, dtype: bool\n"
     ]
    }
   ],
   "source": [
    "print(len(y.loc[less_outliers]))\n",
    "print(y.loc[less_outliers])"
   ]
  },
  {
   "cell_type": "code",
   "execution_count": 25,
   "metadata": {},
   "outputs": [
    {
     "name": "stdout",
     "output_type": "stream",
     "text": [
      "set(['LAY KENNETH L', 'TOTAL', 'RICE KENNETH D', 'THE TRAVEL AGENCY IN THE PARK', 'URQUHART JOHN A', 'DERRICK JR. JAMES V', 'GRAMM WENDY L', 'PEREIRA PAULO V. FERRAZ', 'KAMINSKI WINCENTY J', 'WAKEHAM JOHN', 'CHAN RONNIE', 'BELFER ROBERT', 'POWERS WILLIAM', 'MEYER JEROME J'])\n"
     ]
    }
   ],
   "source": [
    "drop_list = set(df.loc[less_outliers].index )\n",
    "drop_list.update(df.loc[['TOTAL']].index)\n",
    "drop_list.update(df.loc[['THE TRAVEL AGENCY IN THE PARK']].index)\n",
    "drop_list.update(df.loc[['KAMINSKI WINCENTY J']].index)\n",
    "#drop_list.update(df.loc[more_outliers].index)\n",
    "print(drop_list)"
   ]
  },
  {
   "cell_type": "code",
   "execution_count": 26,
   "metadata": {},
   "outputs": [
    {
     "name": "stdout",
     "output_type": "stream",
     "text": [
      "((132, 19), (146L,))\n"
     ]
    }
   ],
   "source": [
    "df.drop(drop_list, axis = 0, inplace = True)\n",
    "\n",
    "print(df.shape, y.shape)"
   ]
  },
  {
   "cell_type": "code",
   "execution_count": 27,
   "metadata": {},
   "outputs": [
    {
     "name": "stdout",
     "output_type": "stream",
     "text": [
      "((132, 19), (132L,))\n"
     ]
    }
   ],
   "source": [
    "y.drop(drop_list, axis = 0, inplace = True)\n",
    "print(df.shape, y.shape)"
   ]
  },
  {
   "cell_type": "code",
   "execution_count": 28,
   "metadata": {},
   "outputs": [
    {
     "data": {
      "text/plain": [
       "False    116\n",
       "True      16\n",
       "Name: poi, dtype: int64"
      ]
     },
     "execution_count": 28,
     "metadata": {},
     "output_type": "execute_result"
    }
   ],
   "source": [
    "y.value_counts()"
   ]
  },
  {
   "cell_type": "markdown",
   "metadata": {},
   "source": [
    "## -------------------------------------Data Transformations -----------------------------------------------------"
   ]
  },
  {
   "cell_type": "code",
   "execution_count": null,
   "metadata": {},
   "outputs": [],
   "source": [
    "print(df.mean(axis=0), df.std(axis=0))"
   ]
  },
  {
   "cell_type": "code",
   "execution_count": 29,
   "metadata": {},
   "outputs": [],
   "source": [
    "#Scale the Data\n",
    "sc = preprocessing.StandardScaler()\n",
    "scaled_df = sc.fit_transform(df)"
   ]
  },
  {
   "cell_type": "code",
   "execution_count": 30,
   "metadata": {},
   "outputs": [],
   "source": [
    "col = df.columns.values\n",
    "df = pd.DataFrame(scaled_df, columns = col)\n",
    "#print(n_df.mean(axis=0), n_df.std(axis=0))"
   ]
  },
  {
   "cell_type": "code",
   "execution_count": 31,
   "metadata": {},
   "outputs": [
    {
     "name": "stdout",
     "output_type": "stream",
     "text": [
      "(salary                       1.682156e-17\n",
      "to_messages                 -3.115143e-16\n",
      "deferral_payments            5.374489e-16\n",
      "total_payments               7.737918e-17\n",
      "exercised_stock_options      1.160688e-16\n",
      "bonus                        2.977416e-16\n",
      "restricted_stock             5.382900e-17\n",
      "shared_receipt_with_poi     -9.777532e-17\n",
      "restricted_stock_deferred   -1.198536e-16\n",
      "total_stock_value            6.560409e-17\n",
      "expenses                     1.324698e-16\n",
      "loan_advances                3.397955e-16\n",
      "from_messages                4.373606e-17\n",
      "other                       -3.280204e-17\n",
      "from_this_person_to_poi     -3.889986e-18\n",
      "director_fees               -1.555994e-16\n",
      "deferred_income             -3.355901e-16\n",
      "long_term_incentive         -2.556877e-16\n",
      "from_poi_to_this_person      2.691450e-17\n",
      "dtype: float64, salary                       1.00381\n",
      "to_messages                  1.00381\n",
      "deferral_payments            1.00381\n",
      "total_payments               1.00381\n",
      "exercised_stock_options      1.00381\n",
      "bonus                        1.00381\n",
      "restricted_stock             1.00381\n",
      "shared_receipt_with_poi      1.00381\n",
      "restricted_stock_deferred    1.00381\n",
      "total_stock_value            1.00381\n",
      "expenses                     1.00381\n",
      "loan_advances                1.00381\n",
      "from_messages                1.00381\n",
      "other                        1.00381\n",
      "from_this_person_to_poi      1.00381\n",
      "director_fees                1.00381\n",
      "deferred_income              1.00381\n",
      "long_term_incentive          1.00381\n",
      "from_poi_to_this_person      1.00381\n",
      "dtype: float64)\n"
     ]
    }
   ],
   "source": [
    "print(df.mean(axis=0), df.std(axis=0))"
   ]
  },
  {
   "cell_type": "markdown",
   "metadata": {},
   "source": [
    "## df_all used in tester.py"
   ]
  },
  {
   "cell_type": "code",
   "execution_count": 33,
   "metadata": {},
   "outputs": [
    {
     "data": {
      "text/plain": [
       "BELDEN TIMOTHY N        True\n",
       "BOWEN JR RAYMOND M      True\n",
       "CALGER CHRISTOPHER F    True\n",
       "CAUSEY RICHARD A        True\n",
       "COLWELL WESLEY          True\n",
       "Name: poi, dtype: bool"
      ]
     },
     "execution_count": 33,
     "metadata": {},
     "output_type": "execute_result"
    }
   ],
   "source": [
    "y.head()"
   ]
  },
  {
   "cell_type": "code",
   "execution_count": 34,
   "metadata": {},
   "outputs": [],
   "source": [
    "y.reset_index(drop = True, inplace = True)"
   ]
  },
  {
   "cell_type": "code",
   "execution_count": 35,
   "metadata": {},
   "outputs": [
    {
     "data": {
      "text/plain": [
       "(132, 20)"
      ]
     },
     "execution_count": 35,
     "metadata": {},
     "output_type": "execute_result"
    }
   ],
   "source": [
    "#alll data\n",
    "df_all = pd.concat([y, df ], axis = 1)\n",
    "df_all.shape"
   ]
  },
  {
   "cell_type": "markdown",
   "metadata": {},
   "source": [
    "# Task 3: Create new feature(s) "
   ]
  },
  {
   "cell_type": "markdown",
   "metadata": {},
   "source": [
    "### MODELS for features\n",
    "#### Test Several Models"
   ]
  },
  {
   "cell_type": "code",
   "execution_count": 51,
   "metadata": {},
   "outputs": [
    {
     "name": "stdout",
     "output_type": "stream",
     "text": [
      "QDA: 0.000000 (0.000000)\n",
      "GPC: 0.000000 (0.000000)\n",
      "KNN: 0.960000 (0.080000)\n",
      "DTC: 1.000000 (0.000000)\n",
      "GNB: 0.960000 (0.080000)\n",
      "SVM: 0.851429 (0.077512)\n",
      "ABC: 1.000000 (0.000000)\n",
      "MLP: 0.910000 (0.111355)\n",
      "RID: 1.000000 (0.000000)\n",
      "log: 1.000000 (0.000000)\n"
     ]
    },
    {
     "data": {
      "image/png": "[encoded data removed]",
      "text/plain": [
       "<Figure size 432x288 with 1 Axes>"
      ]
     },
     "metadata": {},
     "output_type": "display_data"
    }
   ],
   "source": [
    "models = []\n",
    "models.append(('QDA', QuadraticDiscriminantAnalysis()))\n",
    "models.append(('GPC', GaussianProcessClassifier(1.0 * RBF(1.0),random_state = SEED)))\n",
    "models.append(('KNN', KNeighborsClassifier()))\n",
    "models.append(('DTC', DecisionTreeClassifier(random_state = SEED)))\n",
    "models.append(('GNB', GaussianNB()))\n",
    "models.append(('SVM', SVC(random_state = SEED)))\n",
    "models.append(('ABC', AdaBoostClassifier(random_state = SEED)))\n",
    "models.append(('MLP', MLPClassifier( random_state = SEED, max_iter=1000)))\n",
    "models.append(('RID', RidgeClassifier(random_state = SEED)))\n",
    "models.append(('log', LogisticRegression(random_state = SEED)))\n",
    "\n",
    "# test and plot all models in models list<a id='scores'></a>\n",
    "def test_models(models, data, target):\n",
    "    results = []\n",
    "    names = []\n",
    "    scoring = 'f1'\n",
    "\n",
    "    for name, model in models:\n",
    "        kfold = StratifiedKFold(n_splits=5, random_state=SEED)\n",
    "        cv_results = model_selection.cross_val_score(model, data, target, cv=kfold, scoring=scoring)\n",
    "        results.append(cv_results)\n",
    "        names.append(name)\n",
    "        msg = \"%s: %f (%f)\" % (name, cv_results.mean(), cv_results.std())\n",
    "        print(msg)\n",
    "        #classification_metrics(y_val, rfc_pred)\n",
    "\n",
    "    # boxplot algorithm comparison\n",
    "    fig = plt.figure()\n",
    "    fig.suptitle('Algorithm Comparison')\n",
    "    ax = fig.add_subplot(111)\n",
    "    plt.boxplot(results)\n",
    "    ax.set_xticklabels(names)\n",
    "    plt.show()\n",
    "\n",
    "\n",
    "#run test \n",
    "\n",
    "test_models(models, df, y)\n"
   ]
  },
  {
   "cell_type": "markdown",
   "metadata": {},
   "source": [
    "<a id='scores'></a>\n",
    "# Results \n",
    "> In the above chart it appears as though four classifiers achieved perfect scores, but logistic regression \n",
    "> had 84 false positives out of 14,000 predictions on the confirmation below, the other three models were 14,000 out of 14,000. Confirmation was done using tester.py."
   ]
  },
  {
   "cell_type": "code",
   "execution_count": 38,
   "metadata": {},
   "outputs": [
    {
     "name": "stdout",
     "output_type": "stream",
     "text": [
      "AdaBoostClassifier(algorithm='SAMME.R', base_estimator=None,\n",
      "          learning_rate=1.0, n_estimators=50, random_state=5678)\n",
      "\tAccuracy: 1.00000\tPrecision: 1.00000\tRecall: 1.00000\tF1: 1.00000\tF2: 1.00000\n",
      "\tTotal predictions: 14000\tTrue positives: 2000\tFalse positives:    0\tFalse negatives:    0\tTrue negatives: 12000\n",
      "\n"
     ]
    }
   ],
   "source": [
    "# tester.py\n",
    "model = AdaBoostClassifier(random_state = SEED)\n",
    "feat, dat = tester_prep(df_all)\n",
    "test_classifier(model, dat, feat)"
   ]
  },
  {
   "cell_type": "code",
   "execution_count": 45,
   "metadata": {},
   "outputs": [
    {
     "name": "stdout",
     "output_type": "stream",
     "text": [
      "DecisionTreeClassifier(class_weight=None, criterion='gini', max_depth=None,\n",
      "            max_features=None, max_leaf_nodes=None,\n",
      "            min_impurity_decrease=0.0, min_impurity_split=None,\n",
      "            min_samples_leaf=1, min_samples_split=2,\n",
      "            min_weight_fraction_leaf=0.0, presort=False, random_state=5678,\n",
      "            splitter='best')\n",
      "\tAccuracy: 1.00000\tPrecision: 1.00000\tRecall: 1.00000\tF1: 1.00000\tF2: 1.00000\n",
      "\tTotal predictions: 14000\tTrue positives: 2000\tFalse positives:    0\tFalse negatives:    0\tTrue negatives: 12000\n",
      "\n"
     ]
    }
   ],
   "source": [
    "# tester.py\n",
    "model = DecisionTreeClassifier(random_state = SEED)\n",
    "feat, dat = tester_prep(df_all)\n",
    "test_classifier(model, dat, feat)"
   ]
  },
  {
   "cell_type": "code",
   "execution_count": 46,
   "metadata": {},
   "outputs": [
    {
     "name": "stdout",
     "output_type": "stream",
     "text": [
      "RidgeClassifier(alpha=1.0, class_weight=None, copy_X=True, fit_intercept=True,\n",
      "        max_iter=None, normalize=False, random_state=5678, solver='auto',\n",
      "        tol=0.001)\n",
      "\tAccuracy: 1.00000\tPrecision: 1.00000\tRecall: 1.00000\tF1: 1.00000\tF2: 1.00000\n",
      "\tTotal predictions: 14000\tTrue positives: 2000\tFalse positives:    0\tFalse negatives:    0\tTrue negatives: 12000\n",
      "\n"
     ]
    }
   ],
   "source": [
    "# tester.py\n",
    "model = RidgeClassifier(random_state = SEED)\n",
    "feat, dat = tester_prep(df_all)\n",
    "test_classifier(model, dat, feat)"
   ]
  },
  {
   "cell_type": "code",
   "execution_count": 47,
   "metadata": {},
   "outputs": [
    {
     "name": "stdout",
     "output_type": "stream",
     "text": [
      "LogisticRegression(C=1.0, class_weight=None, dual=False, fit_intercept=True,\n",
      "          intercept_scaling=1, max_iter=100, multi_class='ovr', n_jobs=1,\n",
      "          penalty='l2', random_state=5678, solver='liblinear', tol=0.0001,\n",
      "          verbose=0, warm_start=False)\n",
      "\tAccuracy: 0.99400\tPrecision: 0.95969\tRecall: 1.00000\tF1: 0.97943\tF2: 0.99167\n",
      "\tTotal predictions: 14000\tTrue positives: 2000\tFalse positives:   84\tFalse negatives:    0\tTrue negatives: 11916\n",
      "\n"
     ]
    }
   ],
   "source": [
    "# Fast TESTER with pipe\n",
    "model = LogisticRegression(random_state = SEED)\n",
    "feat, dat = tester_prep(df_all)\n",
    "test_classifier(model, dat, feat)"
   ]
  }
 ],
 "metadata": {
  "kernelspec": {
   "display_name": "Python 2",
   "language": "python",
   "name": "python2"
  },
  "language_info": {
   "codemirror_mode": {
    "name": "ipython",
    "version": 2
   },
   "file_extension": ".py",
   "mimetype": "text/x-python",
   "name": "python",
   "nbconvert_exporter": "python",
   "pygments_lexer": "ipython2",
   "version": "2.7.16"
  }
 },
 "nbformat": 4,
 "nbformat_minor": 2
}
